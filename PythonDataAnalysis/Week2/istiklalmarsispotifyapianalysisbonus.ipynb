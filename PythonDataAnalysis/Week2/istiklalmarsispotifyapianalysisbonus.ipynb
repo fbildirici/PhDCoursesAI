{
 "cells": [
  {
   "cell_type": "code",
   "id": "initial_id",
   "metadata": {
    "collapsed": true,
    "jupyter": {
     "is_executing": true
    }
   },
   "source": [
    "# Gerekli kütüphaneleri yükleyin\n",
    "!pip install spotipy matplotlib\n",
    "\n",
    "import spotipy\n",
    "from spotipy.oauth2 import SpotifyClientCredentials\n",
    "import matplotlib.pyplot as plt\n",
    "import numpy as np\n",
    "\n",
    "# Spotify API kimlik bilgilerinizi buraya girin\n",
    "client_id = '******************'  # Spotify Developer Dashboard'dan alın\n",
    "client_secret = '**********************'\n",
    "\n",
    "# Spotify API kimlik doğrulama\n",
    "sp = spotipy.Spotify(auth_manager=SpotifyClientCredentials(client_id=client_id, client_secret=client_secret))\n",
    "\n",
    "# Şarkı özelliklerini alma\n",
    "track_id = '1sBDNj0H3XaL9uXnyeyUY7'  # Şarkının Spotify ID'si\n",
    "features = sp.audio_features(track_id)[0]\n",
    "\n",
    "# Analiz edilecek özellikleri seçme\n",
    "feature_names = ['danceability', 'energy', 'speechiness', 'acousticness', 'instrumentalness', 'liveness', 'valence']\n",
    "feature_values = [features[feature] for feature in feature_names]\n",
    "\n",
    "# Radar grafiği hazırlama\n",
    "angles = np.linspace(0, 2 * np.pi, len(feature_names), endpoint=False).tolist()\n",
    "feature_values += feature_values[:1]  # Kapanışı sağlamak için ilk değeri sona ekleyin\n",
    "angles += angles[:1]\n",
    "\n",
    "# Radar grafiğini çizme\n",
    "fig, ax = plt.subplots(figsize=(8, 8), subplot_kw=dict(polar=True))\n",
    "ax.fill(angles, feature_values, color='blue', alpha=0.25)\n",
    "ax.plot(angles, feature_values, color='blue', linewidth=2)\n",
    "\n",
    "# Eksen ayarları\n",
    "ax.set_yticklabels([])\n",
    "ax.set_xticks(angles[:-1])\n",
    "ax.set_xticklabels(feature_names, color='gray', size=12)\n",
    "\n",
    "# Başlık ekleme\n",
    "plt.title(\"Spotify Şarkı Özellikleri - Radar Grafiği\", size=15, color='blue')\n",
    "plt.show()\n"
   ],
   "outputs": [],
   "execution_count": null
  },
  {
   "metadata": {},
   "cell_type": "code",
   "outputs": [],
   "execution_count": null,
   "source": "",
   "id": "8fb65f8c7203e279"
  }
 ],
 "metadata": {
  "kernelspec": {
   "display_name": "Python 3",
   "language": "python",
   "name": "python3"
  },
  "language_info": {
   "codemirror_mode": {
    "name": "ipython",
    "version": 2
   },
   "file_extension": ".py",
   "mimetype": "text/x-python",
   "name": "python",
   "nbconvert_exporter": "python",
   "pygments_lexer": "ipython2",
   "version": "2.7.6"
  }
 },
 "nbformat": 4,
 "nbformat_minor": 5
}
