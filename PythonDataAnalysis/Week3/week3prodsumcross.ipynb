{
 "cells": [
  {
   "metadata": {},
   "cell_type": "markdown",
   "source": [
    "# <center>Computational Complexity</center>\n",
    "\n",
    "<p align=\"center\">\n",
    "    <img src=\"/Users/fatihbildirici/Desktop/Git Repos/PhdCoursesAI/PythonDataAnalysis/Week3/hq720.jpg\" alt=\"Görsel Açıklaması\" width=\"800\">\n",
    "</p>"
   ],
   "id": "e5898fe1e32229d8"
  },
  {
   "metadata": {
    "ExecuteTime": {
     "end_time": "2024-10-18T17:40:50.157825Z",
     "start_time": "2024-10-18T17:40:49.097818Z"
    }
   },
   "cell_type": "code",
   "source": [
    "# Gerekli kütüphanelerin içe aktarılması işlemini yapalım burada sympy kütüphanesini kullanacağız. Bu kütüphane cebirsel ifadelerle işlemleri içerir.\n",
    "!pip install sympy\n",
    "import sympy as sp\n"
   ],
   "id": "6fa26799e99cf7f4",
   "outputs": [
    {
     "name": "stdout",
     "output_type": "stream",
     "text": [
      "Requirement already satisfied: sympy in /Users/fatihbildirici/Desktop/Git Repos/PythonProject/venv/lib/python3.12/site-packages (1.13.3)\r\n",
      "Requirement already satisfied: mpmath<1.4,>=1.1.0 in /Users/fatihbildirici/Desktop/Git Repos/PythonProject/venv/lib/python3.12/site-packages (from sympy) (1.3.0)\r\n",
      "\r\n",
      "\u001B[1m[\u001B[0m\u001B[34;49mnotice\u001B[0m\u001B[1;39;49m]\u001B[0m\u001B[39;49m A new release of pip is available: \u001B[0m\u001B[31;49m23.2.1\u001B[0m\u001B[39;49m -> \u001B[0m\u001B[32;49m24.2\u001B[0m\r\n",
      "\u001B[1m[\u001B[0m\u001B[34;49mnotice\u001B[0m\u001B[1;39;49m]\u001B[0m\u001B[39;49m To update, run: \u001B[0m\u001B[32;49mpip install --upgrade pip\u001B[0m\r\n"
     ]
    }
   ],
   "execution_count": 58
  },
  {
   "metadata": {},
   "cell_type": "markdown",
   "source": [
    "## Defining Symbolic Variables\n",
    "\n",
    "For this step, we will define the symbolic variables we will use. To do symbolic math in Python, we will use the `symbols` function of the `sympy` library.\n",
    "Here it converts the expressions into numeric form."
   ],
   "id": "269a2b98ffdedfc7"
  },
  {
   "metadata": {
    "ExecuteTime": {
     "end_time": "2024-10-18T17:40:50.162200Z",
     "start_time": "2024-10-18T17:40:50.159629Z"
    }
   },
   "cell_type": "code",
   "source": [
    "# Sembolik değişkenleri tanimlayalim\n",
    "x, y, z, t, f, r, e = sp.symbols('x y z t f r e')\n"
   ],
   "id": "ce161db2dceef912",
   "outputs": [],
   "execution_count": 59
  },
  {
   "metadata": {},
   "cell_type": "markdown",
   "source": [
    "## The Function that Transforms the Product of Sums into the Sum of Products\n",
    "\n",
    "It will expand the product of two or more sums and give the sum of the products. We will use the `expand` function of `sympy` for the expansion.\n"
   ],
   "id": "7f685c26ebb11ec7"
  },
  {
   "metadata": {
    "ExecuteTime": {
     "end_time": "2024-10-18T17:40:50.165685Z",
     "start_time": "2024-10-18T17:40:50.163257Z"
    }
   },
   "cell_type": "code",
   "source": [
    "# Toplamların çarpımını çarpımların toplamına dönüştüren fonksiyon nedir\n",
    "def expand_sums_to_products(*expressions):\n",
    "    # Başlangıç ifadesi\n",
    "    result = expressions[0]\n",
    "    \n",
    "    # Her bir çarpımı genişletme işlemini uygulayalım beraber\n",
    "    for expr in expressions[1:]:\n",
    "        result = sp.expand(result * expr)\n",
    "    \n",
    "    return result\n"
   ],
   "id": "bc79cea034392355",
   "outputs": [],
   "execution_count": 60
  },
  {
   "metadata": {},
   "cell_type": "markdown",
   "source": [
    "## Example 1: (x + y)(z + t)\n",
    "\n",
    "With this example, we will expand the product of two sums. Let's find the result using the expression `(x + y)(z + t)`.\n"
   ],
   "id": "f3ef60526e9acf6"
  },
  {
   "metadata": {
    "ExecuteTime": {
     "end_time": "2024-10-18T17:40:50.170848Z",
     "start_time": "2024-10-18T17:40:50.167447Z"
    }
   },
   "cell_type": "code",
   "source": [
    "# İfadeleri tanımlayalım\n",
    "expr1 = x + y\n",
    "expr2 = z + t\n",
    "\n",
    "# Çarpımların toplamını bulalım\n",
    "expanded_expr1 = expand_sums_to_products(expr1, expr2)\n",
    "\n",
    "# Sonucu yazdıralim bir bu örnek icin\n",
    "print(f\"Dağıtılmış hali: {expanded_expr1}\")\n"
   ],
   "id": "176d454596d41ee6",
   "outputs": [
    {
     "name": "stdout",
     "output_type": "stream",
     "text": [
      "Dağıtılmış hali: t*x + t*y + x*z + y*z\n"
     ]
    }
   ],
   "execution_count": 61
  },
  {
   "metadata": {},
   "cell_type": "markdown",
   "source": [
    "## Example 2: (x + y + z)(f + r + e)\n",
    "\n",
    "As a more complex example, we will expand the product of two sums with trinomials and two sums with trinomials. Expand the expression `(x + y + z)(f + r + e)`."
   ],
   "id": "c2173ed9603cee9c"
  },
  {
   "metadata": {
    "ExecuteTime": {
     "end_time": "2024-10-18T17:40:50.175037Z",
     "start_time": "2024-10-18T17:40:50.171702Z"
    }
   },
   "cell_type": "code",
   "source": [
    "# Daha karmaşık ifadeleri deneyelim\n",
    "expr1_complex = x + y + z\n",
    "expr2_complex = f + r + e\n",
    "\n",
    "# Çarpımların toplamını bulalım\n",
    "expanded_expr2 = expand_sums_to_products(expr1_complex, expr2_complex)\n",
    "\n",
    "# Sonucu yazdıralim beraber\n",
    "print(f\"Dağıtılmış hali: {expanded_expr2}\")\n"
   ],
   "id": "590032a799def13c",
   "outputs": [
    {
     "name": "stdout",
     "output_type": "stream",
     "text": [
      "Dağıtılmış hali: e*x + e*y + e*z + f*x + f*y + f*z + r*x + r*y + r*z\n"
     ]
    }
   ],
   "execution_count": 62
  },
  {
   "metadata": {},
   "cell_type": "markdown",
   "source": [
    "## Example 3: (x + y)(z + t)(f + r)\n",
    "\n",
    "We will expand the product of three sums in this example. We will find the result by distributing the expression `(x + y)(z + t)(f + r)`.\n"
   ],
   "id": "d56f3ce916ff6ef1"
  },
  {
   "metadata": {
    "ExecuteTime": {
     "end_time": "2024-10-18T17:40:50.178493Z",
     "start_time": "2024-10-18T17:40:50.175877Z"
    }
   },
   "cell_type": "code",
   "source": [
    "# Üçlü ifadeleri yazalim bir\n",
    "expr1_multi = x + y\n",
    "expr2_multi = z + t\n",
    "expr3_multi = f + r\n",
    "\n",
    "# Çarpımların toplamını bulalım\n",
    "expanded_expr3 = expand_sums_to_products(expr1_multi, expr2_multi, expr3_multi)\n",
    "\n",
    "# Sonucu yazdıralim tekrar\n",
    "print(f\"Dağıtılmış hali: {expanded_expr3}\")\n"
   ],
   "id": "523dab3f0368ea15",
   "outputs": [
    {
     "name": "stdout",
     "output_type": "stream",
     "text": [
      "Dağıtılmış hali: f*t*x + f*t*y + f*x*z + f*y*z + r*t*x + r*t*y + r*x*z + r*y*z\n"
     ]
    }
   ],
   "execution_count": 63
  },
  {
   "metadata": {},
   "cell_type": "markdown",
   "source": [
    "## Finally, let's try the Expansion Operation with the Expressions Entered by the User\n",
    "\n",
    "Specifically, in this section, we will ask the user to enter two or more sums. Then we will multiply the expressions entered by the user and expand the result.\n"
   ],
   "id": "fd065b117c4d8831"
  },
  {
   "metadata": {
    "ExecuteTime": {
     "end_time": "2024-10-18T17:41:04.625929Z",
     "start_time": "2024-10-18T17:40:50.179209Z"
    }
   },
   "cell_type": "code",
   "source": [
    "# Kullanıcının girdiği ifadeleri alacak ve sembollerle çalışacak bir program düsünelim\n",
    "\n",
    "def user_input_expand():\n",
    "    # Kullanıcıdan ifadeler alınır (2 veya daha fazla ifade)\n",
    "    expr1_input = input(\"Birinci toplamı girin (örneğin: x + y): \")\n",
    "    expr2_input = input(\"İkinci toplamı girin (örneğin: z + t): \")\n",
    "    \n",
    "    # Gerekirse daha fazla toplam eklenebilir\n",
    "    more_input = input(\"Başka toplamlar eklemek ister misiniz? (E/H): \").strip().upper()\n",
    "    additional_exprs = []\n",
    "    \n",
    "    while more_input == \"E\":\n",
    "        additional_input = input(\"Ek toplamı girin: \")\n",
    "        additional_exprs.append(sp.sympify(additional_input))\n",
    "        more_input = input(\"Başka toplamlar eklemek ister misiniz? (E/H): \").strip().upper()\n",
    "    \n",
    "    # İfadeleri sembolik olarak değerlendirmeyi bir deneyelim\n",
    "    expr1 = sp.sympify(expr1_input)\n",
    "    expr2 = sp.sympify(expr2_input)\n",
    "    \n",
    "    # Ek toplamlar varsa hepsini birleştirip genişletmeyi deneyelim\n",
    "    if additional_exprs:\n",
    "        expanded = expand_sums_to_products(expr1, expr2, *additional_exprs)\n",
    "    else:\n",
    "        expanded = expand_sums_to_products(expr1, expr2)\n",
    "    \n",
    "    # Sonucu yazdıralim\n",
    "    print(f\"Girdiğiniz ifadelerin çarpımının genişletilmiş hali: {expanded}\")\n",
    "    \n",
    "# Programı çalıştıralim\n",
    "user_input_expand()\n"
   ],
   "id": "e5da2dee8bb5c59a",
   "outputs": [
    {
     "name": "stdout",
     "output_type": "stream",
     "text": [
      "Girdiğiniz ifadelerin çarpımının genişletilmiş hali: 37096711913520430441394881425\n"
     ]
    }
   ],
   "execution_count": 64
  },
  {
   "metadata": {},
   "cell_type": "markdown",
   "source": [
    "## Result\n",
    "\n",
    "With this program we can convert the product of sums to the sum of products. At each stage we can observe the expansion of algebraic expressions by printing the results. Moreover, we have added a section that also takes the expressions given by the user and extends all of them.\n"
   ],
   "id": "884664ab589d8733"
  }
 ],
 "metadata": {
  "kernelspec": {
   "display_name": "Python 3",
   "language": "python",
   "name": "python3"
  },
  "language_info": {
   "codemirror_mode": {
    "name": "ipython",
    "version": 2
   },
   "file_extension": ".py",
   "mimetype": "text/x-python",
   "name": "python",
   "nbconvert_exporter": "python",
   "pygments_lexer": "ipython2",
   "version": "2.7.6"
  }
 },
 "nbformat": 4,
 "nbformat_minor": 5
}
